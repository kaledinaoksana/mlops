{
 "cells": [
  {
   "cell_type": "code",
   "execution_count": 1,
   "id": "7faf3f9a-adb6-4959-b3a5-bbcd61d3ab87",
   "metadata": {},
   "outputs": [
    {
     "name": "stdout",
     "output_type": "stream",
     "text": [
      "ff\n"
     ]
    }
   ],
   "source": [
    "import pandas\n",
    "\n",
    "print(\"ff\")"
   ]
  },
  {
   "cell_type": "code",
   "execution_count": null,
   "id": "09bb1f3b-219a-490a-ae1b-79e8ca228185",
   "metadata": {},
   "outputs": [],
   "source": [
    "print(\"Hi!\")"
   ]
  },
  {
   "cell_type": "code",
   "execution_count": null,
   "id": "b9c81cff-34e6-4b20-8e4a-f4f21f68782b",
   "metadata": {},
   "outputs": [],
   "source": []
  },
  {
   "cell_type": "code",
   "execution_count": null,
   "id": "f90c28fa-50b0-4fa3-9872-33338609d196",
   "metadata": {},
   "outputs": [],
   "source": []
  }
 ],
 "metadata": {
  "kernelspec": {
   "display_name": "Python 3 (ipykernel)",
   "language": "python",
   "name": "python3"
  },
  "language_info": {
   "codemirror_mode": {
    "name": "ipython",
    "version": 3
   },
   "file_extension": ".py",
   "mimetype": "text/x-python",
   "name": "python",
   "nbconvert_exporter": "python",
   "pygments_lexer": "ipython3",
   "version": "3.11.8"
  }
 },
 "nbformat": 4,
 "nbformat_minor": 5
}
