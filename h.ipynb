{
 "cells": [
  {
   "cell_type": "code",
   "execution_count": 1,
   "metadata": {},
   "outputs": [
    {
     "name": "stdout",
     "output_type": "stream",
     "text": [
      "Как Вас зовут?\n",
      "Привет, Ann\n"
     ]
    }
   ],
   "source": [
    "name = str(input())\n",
    "print(f\"Как Вас зовут?\\nПривет, {name}\")"
   ]
  },
  {
   "cell_type": "code",
   "execution_count": 4,
   "metadata": {},
   "outputs": [
    {
     "name": "stdout",
     "output_type": "stream",
     "text": [
      "32\n",
      "32\n",
      "32\n",
      "\n"
     ]
    }
   ],
   "source": [
    "st = str(input())\n",
    "print((st + \"\\n\") * 3)"
   ]
  },
  {
   "cell_type": "code",
   "execution_count": 7,
   "metadata": {},
   "outputs": [
    {
     "name": "stdout",
     "output_type": "stream",
     "text": [
      "5\n"
     ]
    }
   ],
   "source": [
    "kup = int(input())\n",
    "pot = 38 * 2.5\n",
    "print(int(kup % pot))"
   ]
  },
  {
   "cell_type": "code",
   "execution_count": 9,
   "metadata": {},
   "outputs": [
    {
     "name": "stdout",
     "output_type": "stream",
     "text": [
      "Я больше никогда не буду писать \"afd\"\n",
      "Я больше никогда не буду писать \"afd\"\n",
      "Я больше никогда не буду писать \"afd\"\n",
      "Я больше никогда не буду писать \"afd\"\n",
      "Я больше никогда не буду писать \"afd\"\n",
      "\n"
     ]
    }
   ],
   "source": [
    "n = int(input())\n",
    "string = str(input())\n",
    "print(('Я больше никогда не буду писать \"' + string + '\"!\\n') * n)"
   ]
  },
  {
   "cell_type": "code",
   "execution_count": 11,
   "metadata": {},
   "outputs": [
    {
     "name": "stdout",
     "output_type": "stream",
     "text": [
      "Купи слона!\n",
      "Купи слона!\n",
      "\n"
     ]
    }
   ],
   "source": [
    "n = int(input())\n",
    "print(\"Купи слона!\\n\" * n)"
   ]
  }
 ],
 "metadata": {
  "kernelspec": {
   "display_name": "base",
   "language": "python",
   "name": "python3"
  },
  "language_info": {
   "codemirror_mode": {
    "name": "ipython",
    "version": 3
   },
   "file_extension": ".py",
   "mimetype": "text/x-python",
   "name": "python",
   "nbconvert_exporter": "python",
   "pygments_lexer": "ipython3",
   "version": "3.11.4"
  }
 },
 "nbformat": 4,
 "nbformat_minor": 2
}
